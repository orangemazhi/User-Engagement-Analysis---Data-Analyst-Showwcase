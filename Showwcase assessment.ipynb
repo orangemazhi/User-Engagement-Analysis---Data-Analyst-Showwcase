{
 "cells": [
  {
   "cell_type": "markdown",
   "metadata": {},
   "source": [
    "### User Engagement Analysis - Data Analyst @ Showwcase\n",
    "### Ruizhi Ma"
   ]
  },
  {
   "cell_type": "code",
   "execution_count": 1,
   "metadata": {},
   "outputs": [],
   "source": [
    "#import necessary packages\n",
    "import numpy as np\n",
    "import pandas as pd\n",
    "import scipy.spatial.distance as scipydist\n",
    "import matplotlib.pyplot as plt"
   ]
  },
  {
   "cell_type": "code",
   "execution_count": 33,
   "metadata": {
    "scrolled": true
   },
   "outputs": [
    {
     "data": {
      "text/html": [
       "<div>\n",
       "<style scoped>\n",
       "    .dataframe tbody tr th:only-of-type {\n",
       "        vertical-align: middle;\n",
       "    }\n",
       "\n",
       "    .dataframe tbody tr th {\n",
       "        vertical-align: top;\n",
       "    }\n",
       "\n",
       "    .dataframe thead th {\n",
       "        text-align: right;\n",
       "    }\n",
       "</style>\n",
       "<table border=\"1\" class=\"dataframe\">\n",
       "  <thead>\n",
       "    <tr style=\"text-align: right;\">\n",
       "      <th></th>\n",
       "      <th>session_id</th>\n",
       "      <th>customer_id</th>\n",
       "      <th>login_date</th>\n",
       "      <th>projects_added</th>\n",
       "      <th>likes_given</th>\n",
       "      <th>comment_given</th>\n",
       "      <th>inactive_status</th>\n",
       "      <th>bug_occured</th>\n",
       "      <th>session_projects_added</th>\n",
       "      <th>session_likes_given</th>\n",
       "      <th>session_comments_given</th>\n",
       "      <th>inactive_duration</th>\n",
       "      <th>bugs_in_session</th>\n",
       "      <th>session_duration</th>\n",
       "    </tr>\n",
       "  </thead>\n",
       "  <tbody>\n",
       "    <tr>\n",
       "      <th>0</th>\n",
       "      <td>624205.0</td>\n",
       "      <td>80746.0</td>\n",
       "      <td>10/30/19</td>\n",
       "      <td>False</td>\n",
       "      <td>True</td>\n",
       "      <td>True</td>\n",
       "      <td>True</td>\n",
       "      <td>False</td>\n",
       "      <td>0.0</td>\n",
       "      <td>24.0</td>\n",
       "      <td>3.0</td>\n",
       "      <td>1146.0</td>\n",
       "      <td>0.0</td>\n",
       "      <td>1564.0</td>\n",
       "    </tr>\n",
       "    <tr>\n",
       "      <th>1</th>\n",
       "      <td>624241.0</td>\n",
       "      <td>24520.0</td>\n",
       "      <td>10/30/19</td>\n",
       "      <td>True</td>\n",
       "      <td>True</td>\n",
       "      <td>True</td>\n",
       "      <td>True</td>\n",
       "      <td>False</td>\n",
       "      <td>2.0</td>\n",
       "      <td>3.0</td>\n",
       "      <td>5.0</td>\n",
       "      <td>133.0</td>\n",
       "      <td>0.0</td>\n",
       "      <td>1766.0</td>\n",
       "    </tr>\n",
       "    <tr>\n",
       "      <th>2</th>\n",
       "      <td>111002.0</td>\n",
       "      <td>32047.0</td>\n",
       "      <td>10/30/19</td>\n",
       "      <td>True</td>\n",
       "      <td>True</td>\n",
       "      <td>True</td>\n",
       "      <td>True</td>\n",
       "      <td>False</td>\n",
       "      <td>1.0</td>\n",
       "      <td>5.0</td>\n",
       "      <td>5.0</td>\n",
       "      <td>1571.0</td>\n",
       "      <td>0.0</td>\n",
       "      <td>2230.0</td>\n",
       "    </tr>\n",
       "    <tr>\n",
       "      <th>3</th>\n",
       "      <td>545113.0</td>\n",
       "      <td>23404.0</td>\n",
       "      <td>10/30/19</td>\n",
       "      <td>True</td>\n",
       "      <td>True</td>\n",
       "      <td>True</td>\n",
       "      <td>False</td>\n",
       "      <td>False</td>\n",
       "      <td>1.0</td>\n",
       "      <td>10.0</td>\n",
       "      <td>21.0</td>\n",
       "      <td>0.0</td>\n",
       "      <td>0.0</td>\n",
       "      <td>633.0</td>\n",
       "    </tr>\n",
       "    <tr>\n",
       "      <th>4</th>\n",
       "      <td>750269.0</td>\n",
       "      <td>40235.0</td>\n",
       "      <td>10/30/19</td>\n",
       "      <td>True</td>\n",
       "      <td>True</td>\n",
       "      <td>False</td>\n",
       "      <td>True</td>\n",
       "      <td>False</td>\n",
       "      <td>3.0</td>\n",
       "      <td>16.0</td>\n",
       "      <td>0.0</td>\n",
       "      <td>1405.0</td>\n",
       "      <td>0.0</td>\n",
       "      <td>1679.0</td>\n",
       "    </tr>\n",
       "  </tbody>\n",
       "</table>\n",
       "</div>"
      ],
      "text/plain": [
       "   session_id  customer_id login_date projects_added likes_given  \\\n",
       "0    624205.0      80746.0   10/30/19          False        True   \n",
       "1    624241.0      24520.0   10/30/19           True        True   \n",
       "2    111002.0      32047.0   10/30/19           True        True   \n",
       "3    545113.0      23404.0   10/30/19           True        True   \n",
       "4    750269.0      40235.0   10/30/19           True        True   \n",
       "\n",
       "  comment_given inactive_status bug_occured  session_projects_added  \\\n",
       "0          True            True       False                     0.0   \n",
       "1          True            True       False                     2.0   \n",
       "2          True            True       False                     1.0   \n",
       "3          True           False       False                     1.0   \n",
       "4         False            True       False                     3.0   \n",
       "\n",
       "   session_likes_given  session_comments_given  inactive_duration  \\\n",
       "0                 24.0                     3.0             1146.0   \n",
       "1                  3.0                     5.0              133.0   \n",
       "2                  5.0                     5.0             1571.0   \n",
       "3                 10.0                    21.0                0.0   \n",
       "4                 16.0                     0.0             1405.0   \n",
       "\n",
       "   bugs_in_session  session_duration  \n",
       "0              0.0            1564.0  \n",
       "1              0.0            1766.0  \n",
       "2              0.0            2230.0  \n",
       "3              0.0             633.0  \n",
       "4              0.0            1679.0  "
      ]
     },
     "execution_count": 33,
     "metadata": {},
     "output_type": "execute_result"
    }
   ],
   "source": [
    "sessions = pd.read_csv('showwcase_sessions.csv')\n",
    "sessions.head()"
   ]
  },
  {
   "cell_type": "code",
   "execution_count": 34,
   "metadata": {},
   "outputs": [
    {
     "data": {
      "text/plain": [
       "(302, 14)"
      ]
     },
     "execution_count": 34,
     "metadata": {},
     "output_type": "execute_result"
    }
   ],
   "source": [
    "sessions.shape"
   ]
  },
  {
   "cell_type": "code",
   "execution_count": 35,
   "metadata": {
    "scrolled": false
   },
   "outputs": [
    {
     "name": "stdout",
     "output_type": "stream",
     "text": [
      "<class 'pandas.core.frame.DataFrame'>\n",
      "RangeIndex: 302 entries, 0 to 301\n",
      "Data columns (total 14 columns):\n",
      " #   Column                  Non-Null Count  Dtype  \n",
      "---  ------                  --------------  -----  \n",
      " 0   session_id              300 non-null    float64\n",
      " 1   customer_id             300 non-null    float64\n",
      " 2   login_date              300 non-null    object \n",
      " 3   projects_added          300 non-null    object \n",
      " 4   likes_given             300 non-null    object \n",
      " 5   comment_given           300 non-null    object \n",
      " 6   inactive_status         300 non-null    object \n",
      " 7   bug_occured             300 non-null    object \n",
      " 8   session_projects_added  300 non-null    float64\n",
      " 9   session_likes_given     299 non-null    float64\n",
      " 10  session_comments_given  300 non-null    float64\n",
      " 11  inactive_duration       300 non-null    float64\n",
      " 12  bugs_in_session         300 non-null    float64\n",
      " 13  session_duration        300 non-null    float64\n",
      "dtypes: float64(8), object(6)\n",
      "memory usage: 33.2+ KB\n"
     ]
    }
   ],
   "source": [
    "sessions.info()"
   ]
  },
  {
   "cell_type": "code",
   "execution_count": 60,
   "metadata": {
    "scrolled": false
   },
   "outputs": [
    {
     "data": {
      "text/html": [
       "<div>\n",
       "<style scoped>\n",
       "    .dataframe tbody tr th:only-of-type {\n",
       "        vertical-align: middle;\n",
       "    }\n",
       "\n",
       "    .dataframe tbody tr th {\n",
       "        vertical-align: top;\n",
       "    }\n",
       "\n",
       "    .dataframe thead th {\n",
       "        text-align: right;\n",
       "    }\n",
       "</style>\n",
       "<table border=\"1\" class=\"dataframe\">\n",
       "  <thead>\n",
       "    <tr style=\"text-align: right;\">\n",
       "      <th></th>\n",
       "      <th>session_id</th>\n",
       "      <th>customer_id</th>\n",
       "      <th>session_projects_added</th>\n",
       "      <th>session_likes_given</th>\n",
       "      <th>session_comments_given</th>\n",
       "      <th>inactive_duration</th>\n",
       "      <th>bugs_in_session</th>\n",
       "      <th>session_duration</th>\n",
       "      <th>active_duration</th>\n",
       "    </tr>\n",
       "  </thead>\n",
       "  <tbody>\n",
       "    <tr>\n",
       "      <th>count</th>\n",
       "      <td>300.000000</td>\n",
       "      <td>300.000000</td>\n",
       "      <td>300.000000</td>\n",
       "      <td>299.000000</td>\n",
       "      <td>300.000000</td>\n",
       "      <td>300.000000</td>\n",
       "      <td>300.000000</td>\n",
       "      <td>300.000000</td>\n",
       "      <td>300.000000</td>\n",
       "    </tr>\n",
       "    <tr>\n",
       "      <th>mean</th>\n",
       "      <td>530643.296667</td>\n",
       "      <td>44956.766667</td>\n",
       "      <td>1.620000</td>\n",
       "      <td>10.458194</td>\n",
       "      <td>2.406667</td>\n",
       "      <td>732.933333</td>\n",
       "      <td>1.233333</td>\n",
       "      <td>1186.763333</td>\n",
       "      <td>453.830000</td>\n",
       "    </tr>\n",
       "    <tr>\n",
       "      <th>std</th>\n",
       "      <td>280421.371240</td>\n",
       "      <td>26411.336491</td>\n",
       "      <td>1.334743</td>\n",
       "      <td>9.474839</td>\n",
       "      <td>2.247545</td>\n",
       "      <td>838.143032</td>\n",
       "      <td>1.757608</td>\n",
       "      <td>688.632138</td>\n",
       "      <td>1046.406052</td>\n",
       "    </tr>\n",
       "    <tr>\n",
       "      <th>min</th>\n",
       "      <td>22885.000000</td>\n",
       "      <td>10246.000000</td>\n",
       "      <td>0.000000</td>\n",
       "      <td>0.000000</td>\n",
       "      <td>0.000000</td>\n",
       "      <td>0.000000</td>\n",
       "      <td>0.000000</td>\n",
       "      <td>10.000000</td>\n",
       "      <td>-2085.000000</td>\n",
       "    </tr>\n",
       "    <tr>\n",
       "      <th>25%</th>\n",
       "      <td>308358.000000</td>\n",
       "      <td>23571.250000</td>\n",
       "      <td>1.000000</td>\n",
       "      <td>0.000000</td>\n",
       "      <td>0.750000</td>\n",
       "      <td>0.000000</td>\n",
       "      <td>0.000000</td>\n",
       "      <td>611.250000</td>\n",
       "      <td>-227.750000</td>\n",
       "    </tr>\n",
       "    <tr>\n",
       "      <th>50%</th>\n",
       "      <td>553675.000000</td>\n",
       "      <td>38967.000000</td>\n",
       "      <td>2.000000</td>\n",
       "      <td>9.000000</td>\n",
       "      <td>2.000000</td>\n",
       "      <td>313.500000</td>\n",
       "      <td>0.000000</td>\n",
       "      <td>1152.000000</td>\n",
       "      <td>483.000000</td>\n",
       "    </tr>\n",
       "    <tr>\n",
       "      <th>75%</th>\n",
       "      <td>804120.250000</td>\n",
       "      <td>73245.000000</td>\n",
       "      <td>3.000000</td>\n",
       "      <td>19.000000</td>\n",
       "      <td>4.000000</td>\n",
       "      <td>1524.750000</td>\n",
       "      <td>2.250000</td>\n",
       "      <td>1778.000000</td>\n",
       "      <td>1264.250000</td>\n",
       "    </tr>\n",
       "    <tr>\n",
       "      <th>max</th>\n",
       "      <td>999480.000000</td>\n",
       "      <td>98653.000000</td>\n",
       "      <td>9.000000</td>\n",
       "      <td>27.000000</td>\n",
       "      <td>21.000000</td>\n",
       "      <td>2480.000000</td>\n",
       "      <td>5.000000</td>\n",
       "      <td>2395.000000</td>\n",
       "      <td>2381.000000</td>\n",
       "    </tr>\n",
       "  </tbody>\n",
       "</table>\n",
       "</div>"
      ],
      "text/plain": [
       "          session_id   customer_id  session_projects_added  \\\n",
       "count     300.000000    300.000000              300.000000   \n",
       "mean   530643.296667  44956.766667                1.620000   \n",
       "std    280421.371240  26411.336491                1.334743   \n",
       "min     22885.000000  10246.000000                0.000000   \n",
       "25%    308358.000000  23571.250000                1.000000   \n",
       "50%    553675.000000  38967.000000                2.000000   \n",
       "75%    804120.250000  73245.000000                3.000000   \n",
       "max    999480.000000  98653.000000                9.000000   \n",
       "\n",
       "       session_likes_given  session_comments_given  inactive_duration  \\\n",
       "count           299.000000              300.000000         300.000000   \n",
       "mean             10.458194                2.406667         732.933333   \n",
       "std               9.474839                2.247545         838.143032   \n",
       "min               0.000000                0.000000           0.000000   \n",
       "25%               0.000000                0.750000           0.000000   \n",
       "50%               9.000000                2.000000         313.500000   \n",
       "75%              19.000000                4.000000        1524.750000   \n",
       "max              27.000000               21.000000        2480.000000   \n",
       "\n",
       "       bugs_in_session  session_duration  active_duration  \n",
       "count       300.000000        300.000000       300.000000  \n",
       "mean          1.233333       1186.763333       453.830000  \n",
       "std           1.757608        688.632138      1046.406052  \n",
       "min           0.000000         10.000000     -2085.000000  \n",
       "25%           0.000000        611.250000      -227.750000  \n",
       "50%           0.000000       1152.000000       483.000000  \n",
       "75%           2.250000       1778.000000      1264.250000  \n",
       "max           5.000000       2395.000000      2381.000000  "
      ]
     },
     "execution_count": 60,
     "metadata": {},
     "output_type": "execute_result"
    }
   ],
   "source": [
    "sessions.describe()"
   ]
  },
  {
   "cell_type": "markdown",
   "metadata": {},
   "source": [
    "### Data Preprocess"
   ]
  },
  {
   "cell_type": "code",
   "execution_count": 37,
   "metadata": {},
   "outputs": [
    {
     "data": {
      "text/plain": [
       "session_id                2\n",
       "customer_id               2\n",
       "login_date                2\n",
       "projects_added            2\n",
       "likes_given               2\n",
       "comment_given             2\n",
       "inactive_status           2\n",
       "bug_occured               2\n",
       "session_projects_added    2\n",
       "session_likes_given       3\n",
       "session_comments_given    2\n",
       "inactive_duration         2\n",
       "bugs_in_session           2\n",
       "session_duration          2\n",
       "dtype: int64"
      ]
     },
     "execution_count": 37,
     "metadata": {},
     "output_type": "execute_result"
    }
   ],
   "source": [
    "sessions.isna().sum()"
   ]
  },
  {
   "cell_type": "code",
   "execution_count": 38,
   "metadata": {},
   "outputs": [
    {
     "data": {
      "text/html": [
       "<div>\n",
       "<style scoped>\n",
       "    .dataframe tbody tr th:only-of-type {\n",
       "        vertical-align: middle;\n",
       "    }\n",
       "\n",
       "    .dataframe tbody tr th {\n",
       "        vertical-align: top;\n",
       "    }\n",
       "\n",
       "    .dataframe thead th {\n",
       "        text-align: right;\n",
       "    }\n",
       "</style>\n",
       "<table border=\"1\" class=\"dataframe\">\n",
       "  <thead>\n",
       "    <tr style=\"text-align: right;\">\n",
       "      <th></th>\n",
       "      <th>session_id</th>\n",
       "      <th>customer_id</th>\n",
       "      <th>login_date</th>\n",
       "      <th>projects_added</th>\n",
       "      <th>likes_given</th>\n",
       "      <th>comment_given</th>\n",
       "      <th>inactive_status</th>\n",
       "      <th>bug_occured</th>\n",
       "      <th>session_projects_added</th>\n",
       "      <th>session_likes_given</th>\n",
       "      <th>session_comments_given</th>\n",
       "      <th>inactive_duration</th>\n",
       "      <th>bugs_in_session</th>\n",
       "      <th>session_duration</th>\n",
       "    </tr>\n",
       "  </thead>\n",
       "  <tbody>\n",
       "    <tr>\n",
       "      <th>0</th>\n",
       "      <td>624205.0</td>\n",
       "      <td>80746.0</td>\n",
       "      <td>10/30/19</td>\n",
       "      <td>False</td>\n",
       "      <td>True</td>\n",
       "      <td>True</td>\n",
       "      <td>True</td>\n",
       "      <td>False</td>\n",
       "      <td>0.0</td>\n",
       "      <td>24.0</td>\n",
       "      <td>3.0</td>\n",
       "      <td>1146.0</td>\n",
       "      <td>0.0</td>\n",
       "      <td>1564.0</td>\n",
       "    </tr>\n",
       "    <tr>\n",
       "      <th>1</th>\n",
       "      <td>624241.0</td>\n",
       "      <td>24520.0</td>\n",
       "      <td>10/30/19</td>\n",
       "      <td>True</td>\n",
       "      <td>True</td>\n",
       "      <td>True</td>\n",
       "      <td>True</td>\n",
       "      <td>False</td>\n",
       "      <td>2.0</td>\n",
       "      <td>3.0</td>\n",
       "      <td>5.0</td>\n",
       "      <td>133.0</td>\n",
       "      <td>0.0</td>\n",
       "      <td>1766.0</td>\n",
       "    </tr>\n",
       "    <tr>\n",
       "      <th>2</th>\n",
       "      <td>111002.0</td>\n",
       "      <td>32047.0</td>\n",
       "      <td>10/30/19</td>\n",
       "      <td>True</td>\n",
       "      <td>True</td>\n",
       "      <td>True</td>\n",
       "      <td>True</td>\n",
       "      <td>False</td>\n",
       "      <td>1.0</td>\n",
       "      <td>5.0</td>\n",
       "      <td>5.0</td>\n",
       "      <td>1571.0</td>\n",
       "      <td>0.0</td>\n",
       "      <td>2230.0</td>\n",
       "    </tr>\n",
       "    <tr>\n",
       "      <th>3</th>\n",
       "      <td>545113.0</td>\n",
       "      <td>23404.0</td>\n",
       "      <td>10/30/19</td>\n",
       "      <td>True</td>\n",
       "      <td>True</td>\n",
       "      <td>True</td>\n",
       "      <td>False</td>\n",
       "      <td>False</td>\n",
       "      <td>1.0</td>\n",
       "      <td>10.0</td>\n",
       "      <td>21.0</td>\n",
       "      <td>0.0</td>\n",
       "      <td>0.0</td>\n",
       "      <td>633.0</td>\n",
       "    </tr>\n",
       "    <tr>\n",
       "      <th>4</th>\n",
       "      <td>750269.0</td>\n",
       "      <td>40235.0</td>\n",
       "      <td>10/30/19</td>\n",
       "      <td>True</td>\n",
       "      <td>True</td>\n",
       "      <td>False</td>\n",
       "      <td>True</td>\n",
       "      <td>False</td>\n",
       "      <td>3.0</td>\n",
       "      <td>16.0</td>\n",
       "      <td>0.0</td>\n",
       "      <td>1405.0</td>\n",
       "      <td>0.0</td>\n",
       "      <td>1679.0</td>\n",
       "    </tr>\n",
       "    <tr>\n",
       "      <th>...</th>\n",
       "      <td>...</td>\n",
       "      <td>...</td>\n",
       "      <td>...</td>\n",
       "      <td>...</td>\n",
       "      <td>...</td>\n",
       "      <td>...</td>\n",
       "      <td>...</td>\n",
       "      <td>...</td>\n",
       "      <td>...</td>\n",
       "      <td>...</td>\n",
       "      <td>...</td>\n",
       "      <td>...</td>\n",
       "      <td>...</td>\n",
       "      <td>...</td>\n",
       "    </tr>\n",
       "    <tr>\n",
       "      <th>295</th>\n",
       "      <td>944212.0</td>\n",
       "      <td>40572.0</td>\n",
       "      <td>10/1/19</td>\n",
       "      <td>True</td>\n",
       "      <td>True</td>\n",
       "      <td>False</td>\n",
       "      <td>True</td>\n",
       "      <td>False</td>\n",
       "      <td>3.0</td>\n",
       "      <td>13.0</td>\n",
       "      <td>0.0</td>\n",
       "      <td>1174.0</td>\n",
       "      <td>0.0</td>\n",
       "      <td>2255.0</td>\n",
       "    </tr>\n",
       "    <tr>\n",
       "      <th>296</th>\n",
       "      <td>558332.0</td>\n",
       "      <td>87323.0</td>\n",
       "      <td>10/1/19</td>\n",
       "      <td>True</td>\n",
       "      <td>False</td>\n",
       "      <td>False</td>\n",
       "      <td>True</td>\n",
       "      <td>False</td>\n",
       "      <td>2.0</td>\n",
       "      <td>0.0</td>\n",
       "      <td>0.0</td>\n",
       "      <td>97.0</td>\n",
       "      <td>0.0</td>\n",
       "      <td>1692.0</td>\n",
       "    </tr>\n",
       "    <tr>\n",
       "      <th>297</th>\n",
       "      <td>643880.0</td>\n",
       "      <td>51243.0</td>\n",
       "      <td>10/1/19</td>\n",
       "      <td>True</td>\n",
       "      <td>False</td>\n",
       "      <td>False</td>\n",
       "      <td>True</td>\n",
       "      <td>False</td>\n",
       "      <td>2.0</td>\n",
       "      <td>0.0</td>\n",
       "      <td>0.0</td>\n",
       "      <td>906.0</td>\n",
       "      <td>0.0</td>\n",
       "      <td>1990.0</td>\n",
       "    </tr>\n",
       "    <tr>\n",
       "      <th>298</th>\n",
       "      <td>844518.0</td>\n",
       "      <td>23083.0</td>\n",
       "      <td>10/1/19</td>\n",
       "      <td>True</td>\n",
       "      <td>False</td>\n",
       "      <td>False</td>\n",
       "      <td>True</td>\n",
       "      <td>False</td>\n",
       "      <td>1.0</td>\n",
       "      <td>0.0</td>\n",
       "      <td>0.0</td>\n",
       "      <td>139.0</td>\n",
       "      <td>0.0</td>\n",
       "      <td>1113.0</td>\n",
       "    </tr>\n",
       "    <tr>\n",
       "      <th>299</th>\n",
       "      <td>933954.0</td>\n",
       "      <td>38459.0</td>\n",
       "      <td>10/1/19</td>\n",
       "      <td>True</td>\n",
       "      <td>False</td>\n",
       "      <td>False</td>\n",
       "      <td>False</td>\n",
       "      <td>False</td>\n",
       "      <td>1.0</td>\n",
       "      <td>0.0</td>\n",
       "      <td>0.0</td>\n",
       "      <td>0.0</td>\n",
       "      <td>0.0</td>\n",
       "      <td>306.0</td>\n",
       "    </tr>\n",
       "  </tbody>\n",
       "</table>\n",
       "<p>299 rows × 14 columns</p>\n",
       "</div>"
      ],
      "text/plain": [
       "     session_id  customer_id login_date projects_added likes_given  \\\n",
       "0      624205.0      80746.0   10/30/19          False        True   \n",
       "1      624241.0      24520.0   10/30/19           True        True   \n",
       "2      111002.0      32047.0   10/30/19           True        True   \n",
       "3      545113.0      23404.0   10/30/19           True        True   \n",
       "4      750269.0      40235.0   10/30/19           True        True   \n",
       "..          ...          ...        ...            ...         ...   \n",
       "295    944212.0      40572.0    10/1/19           True        True   \n",
       "296    558332.0      87323.0    10/1/19           True       False   \n",
       "297    643880.0      51243.0    10/1/19           True       False   \n",
       "298    844518.0      23083.0    10/1/19           True       False   \n",
       "299    933954.0      38459.0    10/1/19           True       False   \n",
       "\n",
       "    comment_given inactive_status bug_occured  session_projects_added  \\\n",
       "0            True            True       False                     0.0   \n",
       "1            True            True       False                     2.0   \n",
       "2            True            True       False                     1.0   \n",
       "3            True           False       False                     1.0   \n",
       "4           False            True       False                     3.0   \n",
       "..            ...             ...         ...                     ...   \n",
       "295         False            True       False                     3.0   \n",
       "296         False            True       False                     2.0   \n",
       "297         False            True       False                     2.0   \n",
       "298         False            True       False                     1.0   \n",
       "299         False           False       False                     1.0   \n",
       "\n",
       "     session_likes_given  session_comments_given  inactive_duration  \\\n",
       "0                   24.0                     3.0             1146.0   \n",
       "1                    3.0                     5.0              133.0   \n",
       "2                    5.0                     5.0             1571.0   \n",
       "3                   10.0                    21.0                0.0   \n",
       "4                   16.0                     0.0             1405.0   \n",
       "..                   ...                     ...                ...   \n",
       "295                 13.0                     0.0             1174.0   \n",
       "296                  0.0                     0.0               97.0   \n",
       "297                  0.0                     0.0              906.0   \n",
       "298                  0.0                     0.0              139.0   \n",
       "299                  0.0                     0.0                0.0   \n",
       "\n",
       "     bugs_in_session  session_duration  \n",
       "0                0.0            1564.0  \n",
       "1                0.0            1766.0  \n",
       "2                0.0            2230.0  \n",
       "3                0.0             633.0  \n",
       "4                0.0            1679.0  \n",
       "..               ...               ...  \n",
       "295              0.0            2255.0  \n",
       "296              0.0            1692.0  \n",
       "297              0.0            1990.0  \n",
       "298              0.0            1113.0  \n",
       "299              0.0             306.0  \n",
       "\n",
       "[299 rows x 14 columns]"
      ]
     },
     "execution_count": 38,
     "metadata": {},
     "output_type": "execute_result"
    }
   ],
   "source": [
    "#As there is little number of null values in the dataset, the best way to handle missing data is drop the N/A rows.\n",
    "sessions.dropna()"
   ]
  },
  {
   "cell_type": "markdown",
   "metadata": {},
   "source": [
    "### Sessions"
   ]
  },
  {
   "cell_type": "code",
   "execution_count": 39,
   "metadata": {},
   "outputs": [
    {
     "data": {
      "text/plain": [
       "Text(0.5, 1.0, 'Engagement by date in October')"
      ]
     },
     "execution_count": 39,
     "metadata": {},
     "output_type": "execute_result"
    },
    {
     "data": {
      "image/png": "[encoded data removed]",
      "text/plain": [
       "<Figure size 720x432 with 1 Axes>"
      ]
     },
     "metadata": {
      "needs_background": "light"
     },
     "output_type": "display_data"
    }
   ],
   "source": [
    "Engagement = sessions.groupby('login_date')['session_id'].count()\n",
    "Engagement.plot(kind='line', figsize=(10,6))\n",
    "plt.title('Engagement by date in October')"
   ]
  },
  {
   "cell_type": "code",
   "execution_count": 40,
   "metadata": {},
   "outputs": [
    {
     "name": "stdout",
     "output_type": "stream",
     "text": [
      "unique user: 48\n",
      "unique session: 300\n"
     ]
    }
   ],
   "source": [
    "print('unique user:', sessions['customer_id'].nunique())\n",
    "print('unique session:', sessions['session_id'].nunique())"
   ]
  },
  {
   "cell_type": "markdown",
   "metadata": {},
   "source": [
    "### Bounce Rate"
   ]
  },
  {
   "cell_type": "code",
   "execution_count": 59,
   "metadata": {},
   "outputs": [
    {
     "data": {
      "text/html": [
       "<div>\n",
       "<style scoped>\n",
       "    .dataframe tbody tr th:only-of-type {\n",
       "        vertical-align: middle;\n",
       "    }\n",
       "\n",
       "    .dataframe tbody tr th {\n",
       "        vertical-align: top;\n",
       "    }\n",
       "\n",
       "    .dataframe thead th {\n",
       "        text-align: right;\n",
       "    }\n",
       "</style>\n",
       "<table border=\"1\" class=\"dataframe\">\n",
       "  <thead>\n",
       "    <tr style=\"text-align: right;\">\n",
       "      <th></th>\n",
       "      <th>session_id</th>\n",
       "      <th>customer_id</th>\n",
       "      <th>login_date</th>\n",
       "      <th>projects_added</th>\n",
       "      <th>likes_given</th>\n",
       "      <th>comment_given</th>\n",
       "      <th>inactive_status</th>\n",
       "      <th>bug_occured</th>\n",
       "      <th>session_projects_added</th>\n",
       "      <th>session_likes_given</th>\n",
       "      <th>session_comments_given</th>\n",
       "      <th>inactive_duration</th>\n",
       "      <th>bugs_in_session</th>\n",
       "      <th>session_duration</th>\n",
       "      <th>active_duration</th>\n",
       "    </tr>\n",
       "  </thead>\n",
       "  <tbody>\n",
       "    <tr>\n",
       "      <th>0</th>\n",
       "      <td>624205.0</td>\n",
       "      <td>80746.0</td>\n",
       "      <td>10/30/19</td>\n",
       "      <td>False</td>\n",
       "      <td>True</td>\n",
       "      <td>True</td>\n",
       "      <td>True</td>\n",
       "      <td>False</td>\n",
       "      <td>0.0</td>\n",
       "      <td>24.0</td>\n",
       "      <td>3.0</td>\n",
       "      <td>1146.0</td>\n",
       "      <td>0.0</td>\n",
       "      <td>1564.0</td>\n",
       "      <td>418.0</td>\n",
       "    </tr>\n",
       "    <tr>\n",
       "      <th>1</th>\n",
       "      <td>624241.0</td>\n",
       "      <td>24520.0</td>\n",
       "      <td>10/30/19</td>\n",
       "      <td>True</td>\n",
       "      <td>True</td>\n",
       "      <td>True</td>\n",
       "      <td>True</td>\n",
       "      <td>False</td>\n",
       "      <td>2.0</td>\n",
       "      <td>3.0</td>\n",
       "      <td>5.0</td>\n",
       "      <td>133.0</td>\n",
       "      <td>0.0</td>\n",
       "      <td>1766.0</td>\n",
       "      <td>1633.0</td>\n",
       "    </tr>\n",
       "    <tr>\n",
       "      <th>2</th>\n",
       "      <td>111002.0</td>\n",
       "      <td>32047.0</td>\n",
       "      <td>10/30/19</td>\n",
       "      <td>True</td>\n",
       "      <td>True</td>\n",
       "      <td>True</td>\n",
       "      <td>True</td>\n",
       "      <td>False</td>\n",
       "      <td>1.0</td>\n",
       "      <td>5.0</td>\n",
       "      <td>5.0</td>\n",
       "      <td>1571.0</td>\n",
       "      <td>0.0</td>\n",
       "      <td>2230.0</td>\n",
       "      <td>659.0</td>\n",
       "    </tr>\n",
       "    <tr>\n",
       "      <th>3</th>\n",
       "      <td>545113.0</td>\n",
       "      <td>23404.0</td>\n",
       "      <td>10/30/19</td>\n",
       "      <td>True</td>\n",
       "      <td>True</td>\n",
       "      <td>True</td>\n",
       "      <td>False</td>\n",
       "      <td>False</td>\n",
       "      <td>1.0</td>\n",
       "      <td>10.0</td>\n",
       "      <td>21.0</td>\n",
       "      <td>0.0</td>\n",
       "      <td>0.0</td>\n",
       "      <td>633.0</td>\n",
       "      <td>633.0</td>\n",
       "    </tr>\n",
       "    <tr>\n",
       "      <th>4</th>\n",
       "      <td>750269.0</td>\n",
       "      <td>40235.0</td>\n",
       "      <td>10/30/19</td>\n",
       "      <td>True</td>\n",
       "      <td>True</td>\n",
       "      <td>False</td>\n",
       "      <td>True</td>\n",
       "      <td>False</td>\n",
       "      <td>3.0</td>\n",
       "      <td>16.0</td>\n",
       "      <td>0.0</td>\n",
       "      <td>1405.0</td>\n",
       "      <td>0.0</td>\n",
       "      <td>1679.0</td>\n",
       "      <td>274.0</td>\n",
       "    </tr>\n",
       "  </tbody>\n",
       "</table>\n",
       "</div>"
      ],
      "text/plain": [
       "   session_id  customer_id login_date projects_added likes_given  \\\n",
       "0    624205.0      80746.0   10/30/19          False        True   \n",
       "1    624241.0      24520.0   10/30/19           True        True   \n",
       "2    111002.0      32047.0   10/30/19           True        True   \n",
       "3    545113.0      23404.0   10/30/19           True        True   \n",
       "4    750269.0      40235.0   10/30/19           True        True   \n",
       "\n",
       "  comment_given inactive_status bug_occured  session_projects_added  \\\n",
       "0          True            True       False                     0.0   \n",
       "1          True            True       False                     2.0   \n",
       "2          True            True       False                     1.0   \n",
       "3          True           False       False                     1.0   \n",
       "4         False            True       False                     3.0   \n",
       "\n",
       "   session_likes_given  session_comments_given  inactive_duration  \\\n",
       "0                 24.0                     3.0             1146.0   \n",
       "1                  3.0                     5.0              133.0   \n",
       "2                  5.0                     5.0             1571.0   \n",
       "3                 10.0                    21.0                0.0   \n",
       "4                 16.0                     0.0             1405.0   \n",
       "\n",
       "   bugs_in_session  session_duration  active_duration  \n",
       "0              0.0            1564.0            418.0  \n",
       "1              0.0            1766.0           1633.0  \n",
       "2              0.0            2230.0            659.0  \n",
       "3              0.0             633.0            633.0  \n",
       "4              0.0            1679.0            274.0  "
      ]
     },
     "execution_count": 59,
     "metadata": {},
     "output_type": "execute_result"
    }
   ],
   "source": [
    "sessions['active_duration'] = sessions['session_duration']- sessions['inactive_duration']\n",
    "sessions.head()"
   ]
  },
  {
   "cell_type": "code",
   "execution_count": 63,
   "metadata": {},
   "outputs": [
    {
     "name": "stdout",
     "output_type": "stream",
     "text": [
      "Number of error sessions: 88\n"
     ]
    }
   ],
   "source": [
    "#I found that some active durations were less then 0, which indicated data integrity problem since inactive duration should always less then total session_duration.\n",
    "error = sessions[sessions['active_duration'] < 0]['session_id'].nunique()\n",
    "print('Number of error sessions:',error)"
   ]
  },
  {
   "cell_type": "code",
   "execution_count": 65,
   "metadata": {},
   "outputs": [
    {
     "data": {
      "text/plain": [
       "0.02666666666666667"
      ]
     },
     "execution_count": 65,
     "metadata": {},
     "output_type": "execute_result"
    }
   ],
   "source": [
    "bounce = sessions[(sessions['active_duration'] < 30) & (sessions['active_duration'] > 0)]\n",
    "bounce['session_id'].count()/sessions['session_id'].count()"
   ]
  },
  {
   "cell_type": "markdown",
   "metadata": {},
   "source": [
    "### Conversion"
   ]
  },
  {
   "cell_type": "code",
   "execution_count": 41,
   "metadata": {},
   "outputs": [
    {
     "data": {
      "text/plain": [
       "<matplotlib.axes._subplots.AxesSubplot at 0x7fcd4911c510>"
      ]
     },
     "execution_count": 41,
     "metadata": {},
     "output_type": "execute_result"
    },
    {
     "data": {
      "image/png": "[encoded data removed]",
      "text/plain": [
       "<Figure size 720x432 with 1 Axes>"
      ]
     },
     "metadata": {
      "needs_background": "light"
     },
     "output_type": "display_data"
    }
   ],
   "source": [
    "sessions.groupby('projects_added').size().plot(kind='bar', figsize=(10,6))"
   ]
  },
  {
   "cell_type": "code",
   "execution_count": 17,
   "metadata": {},
   "outputs": [
    {
     "data": {
      "text/plain": [
       "likes_given\n",
       "False     87\n",
       "True     213\n",
       "dtype: int64"
      ]
     },
     "execution_count": 17,
     "metadata": {},
     "output_type": "execute_result"
    }
   ],
   "source": [
    "sessions.groupby('likes_given').size()"
   ]
  },
  {
   "cell_type": "code",
   "execution_count": 19,
   "metadata": {},
   "outputs": [
    {
     "data": {
      "text/plain": [
       "comment_given\n",
       "False     75\n",
       "True     225\n",
       "dtype: int64"
      ]
     },
     "execution_count": 19,
     "metadata": {},
     "output_type": "execute_result"
    }
   ],
   "source": [
    "sessions.groupby('comment_given').size()"
   ]
  },
  {
   "cell_type": "code",
   "execution_count": 42,
   "metadata": {},
   "outputs": [
    {
     "data": {
      "text/plain": [
       "projects_added\n",
       "False     73\n",
       "True     227\n",
       "dtype: int64"
      ]
     },
     "execution_count": 42,
     "metadata": {},
     "output_type": "execute_result"
    }
   ],
   "source": [
    "sessions.groupby('projects_added').size()"
   ]
  },
  {
   "cell_type": "code",
   "execution_count": null,
   "metadata": {},
   "outputs": [],
   "source": [
    "single = store[(store['Homeowner'] == 'Y' ) & (store['MaritalStatus'] == 'S') & (store['Gender'] == 'F')]"
   ]
  },
  {
   "cell_type": "code",
   "execution_count": 56,
   "metadata": {},
   "outputs": [
    {
     "data": {
      "text/html": [
       "<div>\n",
       "<style scoped>\n",
       "    .dataframe tbody tr th:only-of-type {\n",
       "        vertical-align: middle;\n",
       "    }\n",
       "\n",
       "    .dataframe tbody tr th {\n",
       "        vertical-align: top;\n",
       "    }\n",
       "\n",
       "    .dataframe thead th {\n",
       "        text-align: right;\n",
       "    }\n",
       "</style>\n",
       "<table border=\"1\" class=\"dataframe\">\n",
       "  <thead>\n",
       "    <tr style=\"text-align: right;\">\n",
       "      <th></th>\n",
       "      <th>session_id</th>\n",
       "      <th>customer_id</th>\n",
       "      <th>login_date</th>\n",
       "      <th>projects_added</th>\n",
       "      <th>likes_given</th>\n",
       "      <th>comment_given</th>\n",
       "      <th>inactive_status</th>\n",
       "      <th>bug_occured</th>\n",
       "      <th>session_projects_added</th>\n",
       "      <th>session_likes_given</th>\n",
       "      <th>session_comments_given</th>\n",
       "      <th>inactive_duration</th>\n",
       "      <th>bugs_in_session</th>\n",
       "      <th>session_duration</th>\n",
       "    </tr>\n",
       "  </thead>\n",
       "  <tbody>\n",
       "    <tr>\n",
       "      <th>3</th>\n",
       "      <td>545113.0</td>\n",
       "      <td>23404.0</td>\n",
       "      <td>10/30/19</td>\n",
       "      <td>True</td>\n",
       "      <td>True</td>\n",
       "      <td>True</td>\n",
       "      <td>False</td>\n",
       "      <td>False</td>\n",
       "      <td>1.0</td>\n",
       "      <td>10.0</td>\n",
       "      <td>21.0</td>\n",
       "      <td>0.0</td>\n",
       "      <td>0.0</td>\n",
       "      <td>633.0</td>\n",
       "    </tr>\n",
       "    <tr>\n",
       "      <th>18</th>\n",
       "      <td>614943.0</td>\n",
       "      <td>14354.0</td>\n",
       "      <td>10/28/19</td>\n",
       "      <td>True</td>\n",
       "      <td>True</td>\n",
       "      <td>True</td>\n",
       "      <td>False</td>\n",
       "      <td>False</td>\n",
       "      <td>2.0</td>\n",
       "      <td>21.0</td>\n",
       "      <td>4.0</td>\n",
       "      <td>0.0</td>\n",
       "      <td>0.0</td>\n",
       "      <td>505.0</td>\n",
       "    </tr>\n",
       "    <tr>\n",
       "      <th>19</th>\n",
       "      <td>590435.0</td>\n",
       "      <td>43549.0</td>\n",
       "      <td>10/28/19</td>\n",
       "      <td>True</td>\n",
       "      <td>True</td>\n",
       "      <td>True</td>\n",
       "      <td>False</td>\n",
       "      <td>True</td>\n",
       "      <td>1.0</td>\n",
       "      <td>5.0</td>\n",
       "      <td>1.0</td>\n",
       "      <td>0.0</td>\n",
       "      <td>3.0</td>\n",
       "      <td>878.0</td>\n",
       "    </tr>\n",
       "    <tr>\n",
       "      <th>20</th>\n",
       "      <td>211059.0</td>\n",
       "      <td>39475.0</td>\n",
       "      <td>10/28/19</td>\n",
       "      <td>True</td>\n",
       "      <td>True</td>\n",
       "      <td>True</td>\n",
       "      <td>False</td>\n",
       "      <td>False</td>\n",
       "      <td>2.0</td>\n",
       "      <td>4.0</td>\n",
       "      <td>1.0</td>\n",
       "      <td>0.0</td>\n",
       "      <td>0.0</td>\n",
       "      <td>378.0</td>\n",
       "    </tr>\n",
       "    <tr>\n",
       "      <th>22</th>\n",
       "      <td>636263.0</td>\n",
       "      <td>87323.0</td>\n",
       "      <td>10/28/19</td>\n",
       "      <td>True</td>\n",
       "      <td>True</td>\n",
       "      <td>True</td>\n",
       "      <td>False</td>\n",
       "      <td>True</td>\n",
       "      <td>1.0</td>\n",
       "      <td>8.0</td>\n",
       "      <td>5.0</td>\n",
       "      <td>0.0</td>\n",
       "      <td>2.0</td>\n",
       "      <td>1346.0</td>\n",
       "    </tr>\n",
       "  </tbody>\n",
       "</table>\n",
       "</div>"
      ],
      "text/plain": [
       "    session_id  customer_id login_date projects_added likes_given  \\\n",
       "3     545113.0      23404.0   10/30/19           True        True   \n",
       "18    614943.0      14354.0   10/28/19           True        True   \n",
       "19    590435.0      43549.0   10/28/19           True        True   \n",
       "20    211059.0      39475.0   10/28/19           True        True   \n",
       "22    636263.0      87323.0   10/28/19           True        True   \n",
       "\n",
       "   comment_given inactive_status bug_occured  session_projects_added  \\\n",
       "3           True           False       False                     1.0   \n",
       "18          True           False       False                     2.0   \n",
       "19          True           False        True                     1.0   \n",
       "20          True           False       False                     2.0   \n",
       "22          True           False        True                     1.0   \n",
       "\n",
       "    session_likes_given  session_comments_given  inactive_duration  \\\n",
       "3                  10.0                    21.0                0.0   \n",
       "18                 21.0                     4.0                0.0   \n",
       "19                  5.0                     1.0                0.0   \n",
       "20                  4.0                     1.0                0.0   \n",
       "22                  8.0                     5.0                0.0   \n",
       "\n",
       "    bugs_in_session  session_duration  \n",
       "3               0.0             633.0  \n",
       "18              0.0             505.0  \n",
       "19              3.0             878.0  \n",
       "20              0.0             378.0  \n",
       "22              2.0            1346.0  "
      ]
     },
     "execution_count": 56,
     "metadata": {},
     "output_type": "execute_result"
    }
   ],
   "source": [
    "conversion = sessions[(sessions['likes_given'] == True) & (sessions['comment_given'] == True) & (sessions['projects_added'] == True) &(sessions['inactive_status'] == False)]\n",
    "conversion.head()"
   ]
  },
  {
   "cell_type": "code",
   "execution_count": 55,
   "metadata": {},
   "outputs": [
    {
     "data": {
      "text/plain": [
       "0.19333333333333333"
      ]
     },
     "execution_count": 55,
     "metadata": {},
     "output_type": "execute_result"
    }
   ],
   "source": [
    "conversion['session_id'].count()/sessions['session_id'].count()"
   ]
  },
  {
   "cell_type": "code",
   "execution_count": 57,
   "metadata": {},
   "outputs": [
    {
     "data": {
      "text/plain": [
       "0.5416666666666666"
      ]
     },
     "execution_count": 57,
     "metadata": {},
     "output_type": "execute_result"
    }
   ],
   "source": [
    "conversion['customer_id'].nunique()/sessions['customer_id'].nunique()"
   ]
  },
  {
   "cell_type": "code",
   "execution_count": 74,
   "metadata": {},
   "outputs": [
    {
     "data": {
      "text/plain": [
       "bug_occured\n",
       "False    61.333333\n",
       "True     38.666667\n",
       "dtype: float64"
      ]
     },
     "execution_count": 74,
     "metadata": {},
     "output_type": "execute_result"
    }
   ],
   "source": [
    "(sessions.groupby('bug_occured').size()/sessions['session_id'].count())*100"
   ]
  },
  {
   "cell_type": "code",
   "execution_count": 67,
   "metadata": {},
   "outputs": [
    {
     "data": {
      "text/plain": [
       "<matplotlib.axes._subplots.AxesSubplot at 0x7fcd481ca750>"
      ]
     },
     "execution_count": 67,
     "metadata": {},
     "output_type": "execute_result"
    },
    {
     "data": {
      "image/png": "[encoded data removed]",
      "text/plain": [
       "<Figure size 720x432 with 1 Axes>"
      ]
     },
     "metadata": {
      "needs_background": "light"
     },
     "output_type": "display_data"
    }
   ],
   "source": [
    "sessions.groupby('bugs_in_session').size().plot(kind='bar', figsize=(10,6))"
   ]
  },
  {
   "cell_type": "code",
   "execution_count": null,
   "metadata": {},
   "outputs": [],
   "source": []
  }
 ],
 "metadata": {
  "kernelspec": {
   "display_name": "Python 3",
   "language": "python",
   "name": "python3"
  },
  "language_info": {
   "codemirror_mode": {
    "name": "ipython",
    "version": 3
   },
   "file_extension": ".py",
   "mimetype": "text/x-python",
   "name": "python",
   "nbconvert_exporter": "python",
   "pygments_lexer": "ipython3",
   "version": "3.7.6"
  }
 },
 "nbformat": 4,
 "nbformat_minor": 4
}
